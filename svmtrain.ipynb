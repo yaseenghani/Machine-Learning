{
 "cells": [
  {
   "cell_type": "code",
   "execution_count": 2,
   "metadata": {},
   "outputs": [],
   "source": [
    "def trainModel(params):\n",
    "    import pandas as pd\n",
    "    from sklearn.datasets import load_digits\n",
    "    digits = load_digits()\n",
    "    digits.target\n",
    "    dir(digits)\n",
    "    digits.target_names\n",
    "    df = pd.DataFrame(digits.data,digits.target)\n",
    "    df.head()\n",
    "    df['target'] = digits.target\n",
    "    df.head(20)\n",
    "    from sklearn.model_selection import train_test_split\n",
    "    X_train, X_test, y_train, y_test = train_test_split(df.drop('target',axis='columns'), df.target, test_size=0.3)\n",
    "    from sklearn.svm import SVC\n",
    "    rbf_model = SVC(kernel='rbf')\n",
    "    len(X_train)\n",
    "    len(X_test)\n",
    "    rbf_model.fit(X_train, y_train)\n",
    "    rbf_model.score(X_test,y_test)\n",
    "    linear_model = SVC(kernel='linear')\n",
    "    linear_model.fit(X_train,y_train)\n",
    "    linear_model.score(X_test,y_test)"
   ]
  },
  {
   "cell_type": "code",
   "execution_count": 3,
   "metadata": {},
   "outputs": [],
   "source": [
    "trainModel(\"params\")"
   ]
  }
 ],
 "metadata": {
  "interpreter": {
   "hash": "ad2bdc8ecc057115af97d19610ffacc2b4e99fae6737bb82f5d7fb13d2f2c186"
  },
  "kernelspec": {
   "display_name": "Python 3.9.7 ('base')",
   "language": "python",
   "name": "python3"
  },
  "language_info": {
   "codemirror_mode": {
    "name": "ipython",
    "version": 3
   },
   "file_extension": ".py",
   "mimetype": "text/x-python",
   "name": "python",
   "nbconvert_exporter": "python",
   "pygments_lexer": "ipython3",
   "version": "3.9.7"
  },
  "orig_nbformat": 4
 },
 "nbformat": 4,
 "nbformat_minor": 2
}
